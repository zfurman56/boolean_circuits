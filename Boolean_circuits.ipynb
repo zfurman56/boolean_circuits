{
  "nbformat": 4,
  "nbformat_minor": 0,
  "metadata": {
    "colab": {
      "provenance": [],
      "authorship_tag": "ABX9TyMNmkz4nPOcRPtgYQP31TZF",
      "include_colab_link": true
    },
    "kernelspec": {
      "name": "python3",
      "display_name": "Python 3"
    },
    "language_info": {
      "name": "python"
    }
  },
  "cells": [
    {
      "cell_type": "markdown",
      "metadata": {
        "id": "view-in-github",
        "colab_type": "text"
      },
      "source": [
        "<a href=\"https://colab.research.google.com/github/zfurman56/boolean_circuits/blob/main/Boolean_circuits.ipynb\" target=\"_parent\"><img src=\"https://colab.research.google.com/assets/colab-badge.svg\" alt=\"Open In Colab\"/></a>"
      ]
    },
    {
      "cell_type": "markdown",
      "source": [
        "# Setup"
      ],
      "metadata": {
        "id": "W-kMwtUBk99D"
      }
    },
    {
      "cell_type": "code",
      "source": [
        "import numpy as np\n",
        "import itertools, copy\n",
        "import networkx as nx\n",
        "import torch\n",
        "import torch.nn as nn\n",
        "import torch.optim as optim\n",
        "import plotly.express as px"
      ],
      "metadata": {
        "id": "QBPBDw3CkmRQ"
      },
      "execution_count": 363,
      "outputs": []
    },
    {
      "cell_type": "code",
      "source": [
        "class FunctionGraphEvaluator:\n",
        "    def __init__(self, graph):\n",
        "        \"\"\"\n",
        "        Initialize the FunctionGraphEvaluator with a networkx directed acyclic graph.\n",
        "\n",
        "        Args:\n",
        "        graph (networkx.MultiDiGraph): A directed acyclic graph where nodes represent function instances\n",
        "                                    and edge attributes contain input-output connections.\n",
        "        \"\"\"\n",
        "        self.graph = graph\n",
        "\n",
        "    def evaluate(self, coordinates):\n",
        "        \"\"\"\n",
        "        Evaluates the functions using the hierarchical structure defined by the graph.\n",
        "\n",
        "        Args:\n",
        "        coordinates (list or np.ndarray): A list or array of coordinates to be processed.\n",
        "\n",
        "        Returns:\n",
        "        np.ndarray: An array of merged output values.\n",
        "        \"\"\"\n",
        "        # Ensure coordinates are in a NumPy array\n",
        "        coordinates = np.atleast_2d(coordinates)\n",
        "\n",
        "        # Initialize a dictionary to store the output values\n",
        "        output_values = {}\n",
        "\n",
        "        # Calculate the output values\n",
        "        for node in nx.topological_sort(self.graph):\n",
        "            input_data = []\n",
        "\n",
        "            for p, _ in self.graph.in_edges(node):\n",
        "                input_data.append(output_values[p])\n",
        "\n",
        "            if type(node) == str and node.startswith('input'):\n",
        "                assert(len(input_data) == 0)\n",
        "                index = int(node.split('_')[1])\n",
        "                output_values[node] = coordinates[:, index].reshape(-1, 1)\n",
        "\n",
        "            elif type(node) == str and node.startswith('output'):\n",
        "                assert(len(input_data) == 1)\n",
        "                output_values[node] = input_data[0]\n",
        "\n",
        "            else:\n",
        "                inputs = np.hstack(input_data)\n",
        "                function = self.graph.nodes[node]['function']\n",
        "                output_values[node] = function(inputs).reshape(-1, 1)\n",
        "\n",
        "        # Collect output values\n",
        "        sorted_output_nodes = sorted([n for n in output_values if type(n) == str and n.startswith('output')],\n",
        "                                    key=lambda x: int(x.split('_')[1]))\n",
        "        result = np.hstack([output_values[node] for node in sorted_output_nodes])\n",
        "\n",
        "        return result"
      ],
      "metadata": {
        "id": "3INETgOwkkH6"
      },
      "execution_count": 170,
      "outputs": []
    },
    {
      "cell_type": "code",
      "source": [
        "# Define polynomial functions for each node\n",
        "def poly1(x):\n",
        "    # f(x) = x^2 + 2x + 3\n",
        "    return x**2 + 2*x + 3\n",
        "\n",
        "def poly2(x):\n",
        "    # f(x) = 3x^2 - x + 1\n",
        "    return 3*x**2 - x + 1\n",
        "\n",
        "def poly3(x, y):\n",
        "    # f(x) = 2x^2 + x - 2\n",
        "    return 2*x**2 + y - 2\n",
        "\n",
        "def wrap(func):\n",
        "    def ufunc(inputs):\n",
        "        return func(*inputs.T)\n",
        "    return ufunc\n",
        "\n",
        "# Create a directed acyclic graph\n",
        "graph = nx.DiGraph()\n",
        "\n",
        "# Add unique input and output nodes\n",
        "graph.add_node('input_0')\n",
        "graph.add_node('input_1')\n",
        "graph.add_node('output_0')\n",
        "\n",
        "# Add nodes with polynomial functions\n",
        "graph.add_node(0, function=poly1)\n",
        "graph.add_node(1, function=poly2)\n",
        "graph.add_node(2, function=wrap(poly3))\n",
        "\n",
        "# Add edges to define the connections between functions\n",
        "graph.add_edge('input_0', 0)\n",
        "graph.add_edge('input_1', 1)\n",
        "graph.add_edge(0, 2)\n",
        "graph.add_edge(1, 2)\n",
        "graph.add_edge(2, 'output_0')\n",
        "\n",
        "# Create the FunctionGraphEvaluator\n",
        "function_graph_evaluator = FunctionGraphEvaluator(graph)\n",
        "\n",
        "# Define test inputs\n",
        "test_inputs = np.array([[1, 2], [-1, 3], [0, -2], [2, 1]])\n",
        "\n",
        "# Evaluate the functions using the graph structure\n",
        "outputs = function_graph_evaluator.evaluate(test_inputs)\n",
        "\n",
        "# Calculate expected outputs\n",
        "expected_outputs = poly3(poly1(test_inputs[:, 0]), poly2(test_inputs[:, 1]))\n",
        "\n",
        "# Verify if the outputs match the expected outputs\n",
        "assert np.allclose(outputs.T[0], expected_outputs), \"The outputs do not match the expected outputs.\"\n",
        "\n",
        "print(\"Test passed! The outputs match the expected outputs.\")"
      ],
      "metadata": {
        "colab": {
          "base_uri": "https://localhost:8080/"
        },
        "id": "iBuehrTRkvt2",
        "outputId": "0b7f2581-70ee-4c44-dcc3-a149ad74eed7"
      },
      "execution_count": 171,
      "outputs": [
        {
          "output_type": "stream",
          "name": "stdout",
          "text": [
            "Test passed! The outputs match the expected outputs.\n"
          ]
        }
      ]
    },
    {
      "cell_type": "markdown",
      "source": [
        "# Boolean circuits"
      ],
      "metadata": {
        "id": "bpjaLihdlCHe"
      }
    },
    {
      "cell_type": "code",
      "source": [
        "GATES_BY_NAME = {\n",
        "    \"FALSE\": (0, 0, 0, 0),\n",
        "    \"AND\": (0, 0, 0, 1),\n",
        "    \"LNOT-AND\": (0, 0, 1, 0),\n",
        "    \"SECOND\": (0, 0, 1, 1),\n",
        "    \"RNOT-AND\": (0, 1, 0, 0),\n",
        "    \"FIRST\": (0, 1, 0, 1),\n",
        "    \"XOR\": (0, 1, 1, 0),\n",
        "    \"OR\": (0, 1, 1, 1),\n",
        "    \"NOR\": (1, 0, 0, 0),\n",
        "    \"XNOR\": (1, 0, 0, 1),\n",
        "    \"NFIRST\": (1, 0, 1, 0),\n",
        "    \"LNOT-OR\": (1, 0, 1, 1),\n",
        "    \"NSECOND\": (1, 1, 0, 0),\n",
        "    \"RNOT-OR\": (1, 1, 0, 1),\n",
        "    \"NAND\": (1, 1, 1, 0),\n",
        "    \"TRUE\": (1, 1, 1, 1),\n",
        "}\n",
        "\n",
        "class BooleanFunction:\n",
        "    def __init__(self, num_inputs, table):\n",
        "        self.num_inputs = num_inputs\n",
        "        self.size = 2 ** num_inputs\n",
        "        self._validate_table(table)\n",
        "        self.table = np.array(table, dtype=np.uint8)\n",
        "\n",
        "    def evaluate(self, inputs):\n",
        "        inputs = np.asarray(inputs, dtype=np.uint8)\n",
        "        if inputs.shape[-1] != self.num_inputs:\n",
        "            raise ValueError(f\"Expected {self.num_inputs} inputs per row, but got {inputs.shape[-1]}\")\n",
        "\n",
        "        indices = self._inputs_to_indices(inputs)\n",
        "        return np.atleast_2d(self.table[indices])\n",
        "\n",
        "    @property\n",
        "    def canonical_name(self):\n",
        "        # Canonical names only available for functions with only two inputs\n",
        "        assert(self.num_inputs == 2)\n",
        "        # Lookup dict by value instead of key\n",
        "        return list(GATES_BY_NAME.keys())[list(GATES_BY_NAME.values()).index(tuple(self.table))]\n",
        "\n",
        "    def _inputs_to_indices(self, inputs):\n",
        "        indices = np.zeros(inputs.shape[:-1], dtype=int)\n",
        "        for i, value in enumerate(inputs.T):\n",
        "            if not np.all(np.isin(value, [0, 1])):\n",
        "                raise ValueError(\"Inputs must be binary (0 or 1)\")\n",
        "            indices += value << (self.num_inputs - i - 1)\n",
        "        return indices\n",
        "\n",
        "    def _validate_table(self, table):\n",
        "        if len(table) != self.size:\n",
        "            raise ValueError(f\"Expected table of size {self.size}, but got {len(table)}\")\n",
        "        for value in table:\n",
        "            if value not in (0, 1):\n",
        "                raise ValueError(\"Table values must be binary (0 or 1)\")\n",
        "\n",
        "def random_boolean_function(num_inputs):\n",
        "    size = 2 ** num_inputs\n",
        "    random_table = np.random.randint(0, 2, size, dtype=np.uint8)\n",
        "    return BooleanFunction(num_inputs, random_table)\n",
        "\n",
        "def random_boolean_gate(num_inputs, gates=[\"AND\", \"OR\", \"NAND\", \"NOR\"]):\n",
        "    # Only available for functions with two inputs\n",
        "    assert(num_inputs == 2)\n",
        "\n",
        "    gate_name = np.random.choice(gates)\n",
        "    return BooleanFunction(num_inputs, GATES_BY_NAME[gate_name])\n",
        "\n",
        "def parity_function(num_inputs):\n",
        "    size = 2 ** num_inputs\n",
        "    parity_table = np.zeros(size, dtype=np.uint8)\n",
        "\n",
        "    for i in range(size):\n",
        "        binary_input = format(i, f'0{num_inputs}b')\n",
        "        parity = sum(int(bit) for bit in binary_input) % 2\n",
        "        parity_table[i] = parity\n",
        "\n",
        "    return BooleanFunction(num_inputs, parity_table)\n",
        "\n",
        "# Example usage:\n",
        "lookup_table = [0, 1, 1, 0, 1, 0, 0, 1]\n",
        "blt = BooleanFunction(3, lookup_table)\n",
        "input_array = np.array([[0, 0, 1], [1, 0, 1]])\n",
        "print(blt.evaluate(input_array))  # Output: [1 0]\n",
        "\n",
        "num_inputs = 3\n",
        "parity_table = parity_function(num_inputs)\n",
        "print(f\"Parity binary lookup table for {num_inputs} inputs: {parity_table.evaluate([1, 0, 0])}\")"
      ],
      "metadata": {
        "colab": {
          "base_uri": "https://localhost:8080/"
        },
        "id": "HU0E5-NXk8Mg",
        "outputId": "f9e1f28e-dc6f-48e4-edfa-bceedde201ff"
      },
      "execution_count": 172,
      "outputs": [
        {
          "output_type": "stream",
          "name": "stdout",
          "text": [
            "[[1 0]]\n",
            "Parity binary lookup table for 3 inputs: [[1]]\n"
          ]
        }
      ]
    },
    {
      "cell_type": "code",
      "source": [
        "def binary_tree_function_graph(levels, arity, node_generator=random_boolean_function):\n",
        "    graph = nx.MultiDiGraph()\n",
        "\n",
        "    # Generate the nodes\n",
        "    node_levels = [[f'level_{level}_node_{i}' for i in range(arity ** (levels - 1 - level))] for level in range(levels)]\n",
        "    node_list = list(itertools.chain.from_iterable(node_levels))\n",
        "\n",
        "    # Add input and output nodes\n",
        "    for i in range(arity ** (levels - 1)):\n",
        "        graph.add_node(f'input_{i}')\n",
        "    graph.add_node('output_0')\n",
        "\n",
        "    # Add the nodes to the graph\n",
        "    for node in node_list:\n",
        "        node_obj = node_generator(arity)\n",
        "        graph.add_node(node, function=node_obj.evaluate, obj=node_obj)\n",
        "\n",
        "    # Connect the nodes\n",
        "    for i, level_nodes in enumerate(node_levels[:-1]):\n",
        "        for j, node in enumerate(level_nodes):\n",
        "            graph.add_edge(node, node_levels[i + 1][j // arity])\n",
        "\n",
        "    # Connect input nodes\n",
        "    for i, node in enumerate(node_levels[0]):\n",
        "        for j in range(arity):\n",
        "            graph.add_edge(f'input_{i * arity + j}', node)\n",
        "\n",
        "    # Connect output nodes\n",
        "    for node in node_levels[-1]:\n",
        "        graph.add_edge(node, 'output_0')\n",
        "\n",
        "    return FunctionGraphEvaluator(graph)\n",
        "\n",
        "\n",
        "# Example usage\n",
        "levels = 3\n",
        "arity = 2\n",
        "binary_tree = binary_tree_function_graph(levels, arity, parity_function)\n",
        "coordinates = [(1, 0, 1, 0, 0, 0, 1, 1), (1, 0, 1, 0, 0, 0, 1, 1)]  # List of 2D coordinates\n",
        "result = binary_tree.evaluate(coordinates)\n",
        "print(result)"
      ],
      "metadata": {
        "colab": {
          "base_uri": "https://localhost:8080/"
        },
        "id": "YrBsyLYllQpp",
        "outputId": "ac7bb433-9c05-41aa-ae39-7ddbe52c801a"
      },
      "execution_count": 173,
      "outputs": [
        {
          "output_type": "stream",
          "name": "stdout",
          "text": [
            "[[0]\n",
            " [0]]\n"
          ]
        }
      ]
    },
    {
      "cell_type": "code",
      "source": [
        "def visualize_boolean_circuit(fg):\n",
        "    G = fg.graph\n",
        "    for layer, nodes in enumerate(nx.topological_generations(G)):\n",
        "        # `multipartite_layout` expects the layer as a node attribute, so add the\n",
        "        # numeric layer value as a node attribute\n",
        "        for node in nodes:\n",
        "            G.nodes[node][\"layer\"] = layer\n",
        "\n",
        "    # Compute the multipartite_layout using the \"layer\" node attribute\n",
        "    pos = nx.multipartite_layout(G, subset_key=\"layer\")\n",
        "\n",
        "    labels = {a: b.canonical_name for a, b in nx.get_node_attributes(G, 'obj').items()}\n",
        "\n",
        "    # Draw the nodes and edges\n",
        "    nx.draw(G, pos, labels=labels, node_color='lightblue', edge_color='gray', node_size=50, font_size=8)\n",
        "\n",
        "    # Get edge labels based on the 'weight' attribute\n",
        "    edge_labels = nx.get_edge_attributes(G, 'connections')\n",
        "\n",
        "    # Draw edge labels\n",
        "    nx.draw_networkx_edge_labels(G, pos, edge_labels=edge_labels, font_size=5)\n"
      ],
      "metadata": {
        "id": "a24L0tXZ11Sl"
      },
      "execution_count": null,
      "outputs": []
    },
    {
      "cell_type": "markdown",
      "source": [
        "#Training"
      ],
      "metadata": {
        "id": "h59ZRipw10vd"
      }
    },
    {
      "cell_type": "code",
      "source": [
        "depth = 4\n",
        "fg = binary_tree_function_graph(depth, 2, random_boolean_gate)\n",
        "\n",
        "visualize_boolean_circuit(fg)"
      ],
      "metadata": {
        "colab": {
          "base_uri": "https://localhost:8080/",
          "height": 516
        },
        "id": "U2yIYKgJlxJk",
        "outputId": "eb991809-fc72-43f8-a1aa-d1fd9521595b"
      },
      "execution_count": 307,
      "outputs": [
        {
          "output_type": "display_data",
          "data": {
            "text/plain": [
              "<Figure size 640x480 with 1 Axes>"
            ],
            "image/png": "[encoded data removed]"
          },
          "metadata": {}
        }
      ]
    },
    {
      "cell_type": "code",
      "source": [
        "device = torch.device(\"cuda\" if torch.cuda.is_available() else \"cpu\")\n",
        "\n",
        "input_size = 2**depth\n",
        "output_size = 1\n",
        "\n",
        "# Generate training data\n",
        "num_samples = 100000\n",
        "coordinates = (np.random.randint(0, 2, (num_samples, input_size)) * 2) - 1.\n",
        "\n",
        "# Calculate the output values for the training data\n",
        "output_values = ((fg.evaluate((coordinates + 1) // 2)) * 2) - 1.\n",
        "\n",
        "# Split the data into training and validation sets\n",
        "train_split = int(0.8 * num_samples)\n",
        "train_x = torch.tensor(coordinates[:train_split], dtype=torch.float32, device=device)\n",
        "train_y = torch.tensor(output_values[:train_split], dtype=torch.float32, device=device)\n",
        "val_x = torch.tensor(coordinates[train_split:], dtype=torch.float32, device=device)\n",
        "val_y = torch.tensor(output_values[train_split:], dtype=torch.float32, device=device)\n",
        "\n",
        "batch_size = 512\n",
        "batches = (len(train_x) // batch_size)\n",
        "train_x_batched = train_x[:(batches*batch_size)].reshape(batches, batch_size, -1)\n",
        "train_y_batched = train_y[:(batches*batch_size)].reshape(batches, batch_size, -1)\n",
        "fg.evaluate((coordinates + 1) // 2).sum()"
      ],
      "metadata": {
        "colab": {
          "base_uri": "https://localhost:8080/"
        },
        "id": "XWQ9NhS-10SG",
        "outputId": "7327a218-2a10-4655-c37a-f79b203021b4"
      },
      "execution_count": 308,
      "outputs": [
        {
          "output_type": "execute_result",
          "data": {
            "text/plain": [
              "27937"
            ]
          },
          "metadata": {},
          "execution_count": 308
        }
      ]
    },
    {
      "cell_type": "code",
      "source": [
        "model = nn.Sequential(\n",
        "    nn.Linear(input_size, 2*input_size),\n",
        "    nn.ReLU(),\n",
        "    nn.Linear(2*input_size, 2*input_size),\n",
        "    nn.ReLU(),\n",
        "    nn.Linear(2*input_size, 2*input_size),\n",
        "    nn.ReLU(),\n",
        "    nn.Linear(2*input_size, 1),\n",
        ")"
      ],
      "metadata": {
        "id": "d3sgMGv13cCL"
      },
      "execution_count": 309,
      "outputs": []
    },
    {
      "cell_type": "code",
      "source": [
        "loss_function = nn.MSELoss()\n",
        "optimizer = optim.AdamW(model.parameters(), lr=0.001)\n",
        "#optimizer = optim.SGD(model.parameters(), lr=0.001, momentum=0.9)\n",
        "\n",
        "num_epochs = 100\n",
        "\n",
        "for epoch in range(num_epochs):\n",
        "    train_loss = 0\n",
        "    model.train()\n",
        "    for train_x, train_y in zip(train_x_batched, train_y_batched):\n",
        "        optimizer.zero_grad(set_to_none=True)\n",
        "        outputs = model(train_x)\n",
        "        loss = loss_function(outputs, train_y)\n",
        "        loss.backward()\n",
        "        optimizer.step()\n",
        "        train_loss += loss.item()\n",
        "\n",
        "    train_loss /= train_x_batched.size(0)\n",
        "\n",
        "    model.eval()\n",
        "    with torch.no_grad():\n",
        "        outputs = model(val_x)\n",
        "        loss = loss_function(outputs, val_y)\n",
        "        val_loss = loss.item()\n",
        "\n",
        "    if (epoch % (num_epochs // 10)) == 0:\n",
        "        print(f\"Epoch: {epoch+1}/{num_epochs}, Train Loss: {train_loss:.6f}, Validation Loss: {val_loss:.6f}\")\n"
      ],
      "metadata": {
        "colab": {
          "base_uri": "https://localhost:8080/"
        },
        "id": "jBCqpojdTWpV",
        "outputId": "689f1ebd-6499-4f72-aa1f-763184cd53e6"
      },
      "execution_count": 310,
      "outputs": [
        {
          "output_type": "stream",
          "name": "stdout",
          "text": [
            "Epoch: 1/100, Train Loss: 0.481464, Validation Loss: 0.169599\n",
            "Epoch: 11/100, Train Loss: 0.003087, Validation Loss: 0.002392\n",
            "Epoch: 21/100, Train Loss: 0.000029, Validation Loss: 0.000057\n",
            "Epoch: 31/100, Train Loss: 0.000012, Validation Loss: 0.000034\n",
            "Epoch: 41/100, Train Loss: 0.000008, Validation Loss: 0.000020\n",
            "Epoch: 51/100, Train Loss: 0.000004, Validation Loss: 0.000014\n",
            "Epoch: 61/100, Train Loss: 0.000008, Validation Loss: 0.000040\n",
            "Epoch: 71/100, Train Loss: 0.000003, Validation Loss: 0.000005\n",
            "Epoch: 81/100, Train Loss: 0.000002, Validation Loss: 0.000007\n",
            "Epoch: 91/100, Train Loss: 0.000157, Validation Loss: 0.000084\n"
          ]
        }
      ]
    },
    {
      "cell_type": "code",
      "source": [
        "test = torch.randint(0, 2, (input_size,), dtype=torch.float32)\n",
        "#test = torch.tensor([0., 0., 0., 1., 1., 1., 1., 1., 1., 0., 1., 0., 1., 0., 0., 0.])\n",
        "#test = torch.zeros(input_size)\n",
        "expected = (fg.evaluate(test) * 2) - 1.\n",
        "actual = model((test * 2) - 1)\n",
        "(test, expected, actual)"
      ],
      "metadata": {
        "colab": {
          "base_uri": "https://localhost:8080/"
        },
        "id": "GQF4raIJ5MR7",
        "outputId": "75346967-21b6-4b73-d76f-ed8901d7cb57"
      },
      "execution_count": 322,
      "outputs": [
        {
          "output_type": "execute_result",
          "data": {
            "text/plain": [
              "(tensor([0., 0., 0., 0., 0., 0., 1., 0., 0., 1., 1., 0., 0., 0., 0., 0.]),\n",
              " array([[1.]]),\n",
              " tensor([1.0004], grad_fn=<AddBackward0>))"
            ]
          },
          "metadata": {},
          "execution_count": 322
        }
      ]
    },
    {
      "cell_type": "markdown",
      "source": [
        "# Editing"
      ],
      "metadata": {
        "id": "Qgh12t1i1Nv-"
      }
    },
    {
      "cell_type": "code",
      "source": [
        "original_model = copy.deepcopy(model)\n",
        "original_fg = copy.deepcopy(fg)"
      ],
      "metadata": {
        "id": "h_YgnePEU6Kh"
      },
      "execution_count": 324,
      "outputs": []
    },
    {
      "cell_type": "code",
      "source": [
        "new_func = BooleanFunction(2, GATES_BY_NAME[\"OR\"])\n",
        "fg.graph.nodes[\"level_1_node_1\"][\"obj\"] = new_func\n",
        "fg.graph.nodes[\"level_1_node_1\"][\"function\"] = new_func.evaluate\n",
        "\n",
        "visualize_boolean_circuit(fg)\n",
        "\n",
        "fg.evaluate((coordinates + 1) // 2).sum()"
      ],
      "metadata": {
        "colab": {
          "base_uri": "https://localhost:8080/",
          "height": 534
        },
        "id": "WdEFRGTJVt0m",
        "outputId": "f0b0e32f-8c71-43bc-9529-54ba8631febe"
      },
      "execution_count": 326,
      "outputs": [
        {
          "output_type": "execute_result",
          "data": {
            "text/plain": [
              "69598"
            ]
          },
          "metadata": {},
          "execution_count": 326
        },
        {
          "output_type": "display_data",
          "data": {
            "text/plain": [
              "<Figure size 640x480 with 1 Axes>"
            ],
            "image/png": "[encoded data removed]"
          },
          "metadata": {}
        }
      ]
    },
    {
      "cell_type": "code",
      "source": [
        "test = torch.randint(0, 2, (input_size,), dtype=torch.float32)\n",
        "original_output = original_fg.evaluate(test)\n",
        "new_output = fg.evaluate(test)\n",
        "(test, original_output, new_output)"
      ],
      "metadata": {
        "colab": {
          "base_uri": "https://localhost:8080/"
        },
        "id": "8EE6K9dYivdt",
        "outputId": "086fbdcf-8019-4d1c-f90d-79e240b5bda0"
      },
      "execution_count": 333,
      "outputs": [
        {
          "output_type": "execute_result",
          "data": {
            "text/plain": [
              "(tensor([0., 0., 0., 1., 0., 0., 1., 0., 0., 0., 1., 0., 1., 0., 1., 1.]),\n",
              " array([[0]], dtype=uint8),\n",
              " array([[1]], dtype=uint8))"
            ]
          },
          "metadata": {},
          "execution_count": 333
        }
      ]
    },
    {
      "cell_type": "markdown",
      "source": [
        "# Continuing training"
      ],
      "metadata": {
        "id": "vwAmANoa1a7o"
      }
    },
    {
      "cell_type": "code",
      "source": [
        "# Calculate the output values for the training data\n",
        "output_values = ((fg.evaluate((coordinates + 1) // 2)) * 2) - 1.\n",
        "\n",
        "# Split the data into training and validation sets\n",
        "train_split = int(0.8 * num_samples)\n",
        "train_x = torch.tensor(coordinates[:train_split], dtype=torch.float32, device=device)\n",
        "train_y = torch.tensor(output_values[:train_split], dtype=torch.float32, device=device)\n",
        "val_x = torch.tensor(coordinates[train_split:], dtype=torch.float32, device=device)\n",
        "val_y = torch.tensor(output_values[train_split:], dtype=torch.float32, device=device)\n",
        "\n",
        "batch_size = 512\n",
        "batches = (len(train_x) // batch_size)\n",
        "train_x_batched = train_x[:(batches*batch_size)].reshape(batches, batch_size, -1)\n",
        "train_y_batched = train_y[:(batches*batch_size)].reshape(batches, batch_size, -1)\n",
        "fg.evaluate((coordinates + 1) // 2).sum()"
      ],
      "metadata": {
        "colab": {
          "base_uri": "https://localhost:8080/"
        },
        "id": "oBLOGfTjpAwC",
        "outputId": "4af0ddd2-c170-4c1f-b69a-c3924fcc39af"
      },
      "execution_count": 338,
      "outputs": [
        {
          "output_type": "execute_result",
          "data": {
            "text/plain": [
              "69598"
            ]
          },
          "metadata": {},
          "execution_count": 338
        }
      ]
    },
    {
      "cell_type": "code",
      "source": [
        "#model = copy.deepcopy(original_model)\n",
        "#model = nn.Sequential(\n",
        "#    nn.Linear(input_size, 2*input_size),\n",
        "#    nn.ReLU(),\n",
        "#    nn.Linear(2*input_size, 2*input_size),\n",
        "#    nn.ReLU(),\n",
        "#    nn.Linear(2*input_size, 2*input_size),\n",
        "#    nn.ReLU(),\n",
        "#    nn.Linear(2*input_size, 1),\n",
        "#)\n"
      ],
      "metadata": {
        "id": "l7ElYaNIr9Q4"
      },
      "execution_count": 437,
      "outputs": []
    },
    {
      "cell_type": "code",
      "source": [
        "def model_difference(model1, model2):\n",
        "    diff_sum = torch.tensor(0.0)\n",
        "    count = torch.tensor(0)\n",
        "\n",
        "    for (param1, param2) in zip(model1.parameters(), model2.parameters()):\n",
        "        diff = param1 - param2\n",
        "        diff_sum += diff.abs().sum()\n",
        "        count += torch.numel(diff)\n",
        "\n",
        "    mean_diff = diff_sum / count\n",
        "    return mean_diff\n",
        "\n",
        "loss_function = nn.MSELoss()\n",
        "optimizer = optim.AdamW(model.parameters(), lr=0.001)\n",
        "#optimizer = optim.SGD(model.parameters(), lr=0.001, momentum=0.9)\n",
        "\n",
        "num_epochs = 400\n",
        "\n",
        "for epoch in range(num_epochs):\n",
        "    train_loss = 0\n",
        "    model.train()\n",
        "    for train_x, train_y in zip(train_x_batched, train_y_batched):\n",
        "        optimizer.zero_grad(set_to_none=True)\n",
        "        outputs = model(train_x)\n",
        "        loss = loss_function(outputs, train_y)\n",
        "        loss += 0.1 * model_difference(model, original_model)\n",
        "        loss.backward()\n",
        "        optimizer.step()\n",
        "        train_loss += loss.item()\n",
        "\n",
        "    train_loss /= train_x_batched.size(0)\n",
        "\n",
        "    model.eval()\n",
        "    with torch.no_grad():\n",
        "        outputs = model(val_x)\n",
        "        loss = loss_function(outputs, val_y)\n",
        "        val_loss = loss.item()\n",
        "\n",
        "    if (epoch % (num_epochs // 10)) == 0:\n",
        "        print(f\"Epoch: {epoch+1}/{num_epochs}, Train Loss: {train_loss:.6f}, Validation Loss: {val_loss:.6f}, Model Difference: {model_difference(model, original_model):.6f}\")\n"
      ],
      "metadata": {
        "colab": {
          "base_uri": "https://localhost:8080/"
        },
        "id": "_BRxl_i3KDWZ",
        "outputId": "296c9cd6-061c-4612-e913-d3d744523e2f"
      },
      "execution_count": 438,
      "outputs": [
        {
          "output_type": "stream",
          "name": "stdout",
          "text": [
            "Epoch: 1/400, Train Loss: 0.558245, Validation Loss: 0.186695, Model Difference: 0.162172\n",
            "Epoch: 41/400, Train Loss: 0.005329, Validation Loss: 0.000128, Model Difference: 0.051338\n",
            "Epoch: 81/400, Train Loss: 0.002943, Validation Loss: 0.000098, Model Difference: 0.028335\n",
            "Epoch: 121/400, Train Loss: 0.002618, Validation Loss: 0.000108, Model Difference: 0.025340\n",
            "Epoch: 161/400, Train Loss: 0.002218, Validation Loss: 0.000068, Model Difference: 0.021627\n",
            "Epoch: 201/400, Train Loss: 0.001884, Validation Loss: 0.000094, Model Difference: 0.018258\n",
            "Epoch: 241/400, Train Loss: 0.001789, Validation Loss: 0.000072, Model Difference: 0.017311\n",
            "Epoch: 281/400, Train Loss: 0.001776, Validation Loss: 0.000056, Model Difference: 0.017026\n",
            "Epoch: 321/400, Train Loss: 0.001657, Validation Loss: 0.000058, Model Difference: 0.016021\n",
            "Epoch: 361/400, Train Loss: 0.001683, Validation Loss: 0.000053, Model Difference: 0.016007\n"
          ]
        }
      ]
    },
    {
      "cell_type": "code",
      "source": [
        "test = test = torch.randint(0, 2, (input_size,), dtype=torch.float32)\n",
        "expected_original = (original_fg.evaluate(test) * 2) - 1.\n",
        "actual_original = original_model((test * 2) - 1)\n",
        "expected = (fg.evaluate(test) * 2) - 1.\n",
        "actual = model((test * 2) - 1)\n",
        "(test, expected_original, actual_original, expected, actual)"
      ],
      "metadata": {
        "colab": {
          "base_uri": "https://localhost:8080/"
        },
        "id": "u7vib8V0lT1u",
        "outputId": "7608ee1f-c1cf-439c-f897-cc9c0a09017a"
      },
      "execution_count": 429,
      "outputs": [
        {
          "output_type": "execute_result",
          "data": {
            "text/plain": [
              "(tensor([1., 1., 0., 0., 0., 0., 0., 0., 1., 0., 1., 0., 0., 0., 1., 1.]),\n",
              " array([[-1.]]),\n",
              " tensor([-0.9981], grad_fn=<AddBackward0>),\n",
              " array([[1.]]),\n",
              " tensor([0.9986], grad_fn=<AddBackward0>))"
            ]
          },
          "metadata": {},
          "execution_count": 429
        }
      ]
    },
    {
      "cell_type": "code",
      "source": [
        "diffs = []\n",
        "for (param1, param2) in zip(original_model.parameters(), model.parameters()):\n",
        "    diffs.append(param1.detach() - param2.detach())\n",
        "\n",
        "px.histogram(diffs[2].flatten())\n",
        "\n",
        "#(torch.nonzero(diffs[2].abs() > 0.02), torch.nonzero(diffs_old[2].abs() > 0.02))"
      ],
      "metadata": {
        "colab": {
          "base_uri": "https://localhost:8080/",
          "height": 542
        },
        "id": "i5O_AuA_pvUF",
        "outputId": "267167d3-4b7e-4267-9e4b-737871e7d12f"
      },
      "execution_count": 440,
      "outputs": [
        {
          "output_type": "display_data",
          "data": {
            "text/html": [
              "<html>\n",
              "<head><meta charset=\"utf-8\" /></head>\n",
              "<body>\n",
              "    <div>            <script src=\"https://cdnjs.cloudflare.com/ajax/libs/mathjax/2.7.5/MathJax.js?config=TeX-AMS-MML_SVG\"></script><script type=\"text/javascript\">if (window.MathJax && window.MathJax.Hub && window.MathJax.Hub.Config) {window.MathJax.Hub.Config({SVG: {font: \"STIX-Web\"}});}</script>                <script type=\"text/javascript\">window.PlotlyConfig = {MathJaxConfig: 'local'};</script>\n",
              "        <script src=\"https://cdn.plot.ly/plotly-2.18.2.min.js\"></script>                <div id=\"72c7121f-3bf6-4f99-8c02-55331d96c098\" class=\"plotly-graph-div\" style=\"height:525px; width:100%;\"></div>            <script type=\"text/javascript\">                                    window.PLOTLYENV=window.PLOTLYENV || {};                                    if (document.getElementById(\"72c7121f-3bf6-4f99-8c02-55331d96c098\")) {                    Plotly.newPlot(                        \"72c7121f-3bf6-4f99-8c02-55331d96c098\",                        [{\"alignmentgroup\":\"True\",\"bingroup\":\"x\",\"hovertemplate\":\"variable=0<br>value=%{x}<br>count=%{y}<extra></extra>\",\"legendgroup\":\"0\",\"marker\":{\"color\":\"#636efa\",\"pattern\":{\"shape\":\"\"}},\"name\":\"0\",\"offsetgroup\":\"0\",\"orientation\":\"v\",\"showlegend\":true,\"x\":[7.10412859916687e-05,0.0002579186111688614,-6.538629531860352e-05,-0.00024272222071886063,3.341585397720337e-05,-0.0001750066876411438,0.00035337358713150024,0.0004782825708389282,0.0007051527500152588,-0.00012958794832229614,-0.0007060430943965912,-8.385628461837769e-05,-0.00011771917343139648,-0.0003231316804885864,0.00019482523202896118,0.0001919865608215332,6.580352783203125e-05,8.633430115878582e-05,0.0002436414361000061,0.0023369640111923218,-0.0004129931330680847,0.00011980906128883362,-0.00043082982301712036,-0.0006513595581054688,0.00015310943126678467,-0.0007705725729465485,-2.740323543548584e-05,-0.00011084973812103271,0.00030149519443511963,-0.0005319416522979736,-0.00022736936807632446,0.00020055845379829407,-6.975233554840088e-05,-4.056096076965332e-05,0.00015284866094589233,0.00012119859457015991,-5.4605305194854736e-05,-0.00028996169567108154,0.00010703876614570618,4.8741698265075684e-05,-0.0002928003668785095,-0.00029519200325012207,-4.139542579650879e-05,-4.372140392661095e-05,-9.581446647644043e-05,3.36281955242157e-05,0.0003232099115848541,-0.0002568364143371582,-0.0004336237907409668,-0.0004551112651824951,-0.0004005543887615204,-0.0014809519052505493,0.00010270625352859497,-0.0002713194116950035,-0.00012549012899398804,-0.0002611875534057617,-0.0006217658519744873,0.000921592116355896,7.708370685577393e-05,-0.0006881505250930786,0.0008044689893722534,0.00010204315185546875,-0.00022813677787780762,-1.4841556549072266e-05,-8.856877684593201e-05,0.0004507973790168762,-0.00018581748008728027,-0.0004485100507736206,-0.00045956671237945557,0.00014137476682662964,6.057322025299072e-06,0.00055723637342453,0.0006043314933776855,0.0004823058843612671,-0.0006945617496967316,-0.0001323893666267395,0.00015908898785710335,-0.0003401525318622589,0.00020522065460681915,9.948015213012695e-05,2.291053533554077e-06,0.0005091316998004913,-0.00014036893844604492,0.00018861889839172363,0.0002628415822982788,6.742030382156372e-05,-8.772406727075577e-05,-0.0009179823100566864,0.00017574429512023926,-0.0002740505151450634,0.0001512467861175537,-0.0003033466637134552,9.973347187042236e-05,-0.0005375891923904419,-0.0013051480054855347,-7.513165473937988e-05,-0.0005704108625650406,6.221979856491089e-05,-4.41279262304306e-05,5.567818880081177e-05,-0.00033238716423511505,0.00020370632410049438,0.00015707314014434814,-9.887292981147766e-05,9.79304313659668e-05,-1.6391277313232422e-07,9.87127423286438e-05,-0.00040277838706970215,0.000798921100795269,-0.0003416985273361206,0.00012256577610969543,0.00021222233772277832,-0.00022752583026885986,-2.2843480110168457e-05,-7.995963096618652e-05,-0.00012270919978618622,-0.000230446457862854,-3.229081630706787e-05,-0.00024001067504286766,-0.000173863023519516,3.516674041748047e-05,-0.00025733187794685364,-0.00014888495206832886,-0.00037482380867004395,-0.0005437135696411133,0.0001475512981414795,-0.0006989389657974243,0.0003179013729095459,0.0001788698136806488,-0.0010288059711456299,2.816319465637207e-05,-0.0003421795554459095,0.0007538497447967529,0.000660330057144165,0.0003685802221298218,0.0517033115029335,-0.00032597780227661133,-2.5331974029541016e-06,7.823854684829712e-05,-0.00010001659393310547,0.0013108551502227783,0.0017029792070388794,0.00019475817680358887,-2.2470951080322266e-05,0.00011743605136871338,0.00015936791896820068,0.00010846555233001709,0.09367682039737701,-2.1424144506454468e-05,0.009164705872535706,3.160536289215088e-05,4.7907233238220215e-06,1.0915100574493408e-06,-0.00034350156784057617,0.00016006827354431152,0.013326786458492279,0.03783547133207321,0.0001850128173828125,-0.00026419758796691895,0.0009028315544128418,-0.00020272284746170044,0.0002897484228014946,-0.000406910665333271,-0.00015411525964736938,-0.00011080875992774963,0.00011317431926727295,0.00022094696760177612,-0.0001249164342880249,0.00036213546991348267,0.0005849450826644897,6.030872464179993e-05,-0.00018691085278987885,4.492979496717453e-05,-0.0006025691982358694,2.314150333404541e-05,-0.00013570860028266907,0.0005376413464546204,0.00029581785202026367,-0.0005762474611401558,-5.2347779273986816e-05,0.00017124414443969727,0.00020763278007507324,4.916265606880188e-05,-0.0011893734335899353,-3.8176774978637695e-05,-0.00025551021099090576,5.077570676803589e-06,1.1391937732696533e-05,-0.0003931671380996704,-0.0005805045366287231,-2.0753592252731323e-05,6.456728442572057e-05,0.23897509276866913,0.031552743166685104,0.3622208833694458,-0.0026797279715538025,-0.0003151744604110718,-7.963180541992188e-05,-0.03128672391176224,-0.002268493175506592,0.0011136680841445923,0.0005766749382019043,-0.0019750744104385376,0.0017766505479812622,-1.1466730833053589,-0.004063501954078674,0.008914969861507416,-0.4348384439945221,-0.035324063152074814,0.0006122123450040817,-7.855892181396484e-05,0.2322225570678711,-0.002590700052678585,0.0006796419620513916,0.00269477441906929,-0.20230603218078613,-0.004189163446426392,-0.2027626782655716,9.010732173919678e-05,0.002904161810874939,0.04799385741353035,2.1041996479034424,0.0017237961292266846,-0.0005888789892196655,0.00015781819820404053,0.00015283934772014618,-3.3000484108924866e-05,1.6897916793823242e-05,0.00012852251529693604,0.00020942091941833496,2.2530555725097656e-05,0.00011874735355377197,-0.0001023709774017334,-2.5935471057891846e-05,-8.557736873626709e-05,0.000124417245388031,3.479421138763428e-05,-0.00011450052261352539,-8.424744009971619e-06,0.00026488304138183594,0.00026863813400268555,-5.564093589782715e-05,2.2903084754943848e-05,2.2679567337036133e-05,6.38812780380249e-05,-0.00011795759201049805,1.341104507446289e-07,4.814937710762024e-06,0.0002446398138999939,9.02414321899414e-05,-9.084492921829224e-05,-0.0001093447208404541,0.00016313791275024414,-0.00010474026203155518,9.386241436004639e-05,7.420778274536133e-05,0.00028040818870067596,0.00011805444955825806,0.0001551806926727295,-0.0005162954330444336,6.85080885887146e-05,-0.00024095922708511353,3.509223461151123e-06,0.0003220364451408386,6.218254566192627e-05,4.264712333679199e-05,-0.00022217631340026855,0.0005936175584793091,-0.0006726831197738647,-0.0001562405377626419,0.00017477571964263916,0.00010670721530914307,0.00040724873542785645,0.00015551410615444183,0.0004312098026275635,0.0005830274894833565,-0.00017878413200378418,-8.21240246295929e-05,-0.00044161081314086914,-0.0005670078098773956,-0.00012838095426559448,-0.0012786611914634705,0.00010976195335388184,-5.564838647842407e-05,-5.207955837249756e-06,1.8253922462463379e-06,-0.0009098052978515625,0.00031086988747119904,0.0003001093864440918,5.2735209465026855e-05,2.282857894897461e-05,-9.427126497030258e-05,0.00028574466705322266,2.2426247596740723e-06,0.00011977553367614746,0.00029821693897247314,-5.6415796279907227e-05,3.059208393096924e-05,0.00020693987607955933,2.790987491607666e-05,-6.168335676193237e-05,-0.0003127101808786392,0.0002584494650363922,0.00014787912368774414,-6.82249665260315e-05,5.044788122177124e-05,3.129243850708008e-07,9.223818778991699e-05,-5.819275975227356e-05,1.415051519870758e-05,9.059160947799683e-05,0.0005182400345802307,-0.00014474987983703613,0.0015211068093776703,-0.00047260522842407227,-0.00020599365234375,0.0001665055751800537,-1.2099742889404297e-05,0.00010115653276443481,0.0003538578748703003,0.00030640512704849243,0.00023161619901657104,4.568835720419884e-05,-0.00020872056484222412,-7.826089859008789e-05,0.0007419799803756177,-0.0010754801332950592,0.0009374767541885376,0.00036493875086307526,0.00010000914335250854,-7.919967174530029e-05,0.0003120303153991699,0.00010864809155464172,-0.0002008490264415741,0.0012566745281219482,0.0001521855592727661,0.00024424120783805847,0.000721462070941925,0.00015522539615631104,0.1335068792104721,6.44102692604065e-05,0.00028219446539878845,-0.0003741607069969177,4.603341221809387e-05,-0.0003326795995235443,-0.0007481127977371216,0.0003291815519332886,0.001092769205570221,9.28044319152832e-05,-0.0017577111721038818,-0.001394324004650116,0.0003197416663169861,0.0011248812079429626,-0.00010123103857040405,0.0006786994636058807,5.956646054983139e-05,-7.252395153045654e-05,0.002867855131626129,0.0003588646650314331,0.00029755569994449615,-0.0004823952913284302,-0.00013275444507598877,-0.00020214542746543884,0.00029962509870529175,-0.0007756794802844524,0.0005121901631355286,0.00011088699102401733,-0.00017404556274414062,-0.0015513300895690918,0.00014971569180488586,0.0001077800989151001,0.06226106733083725,-0.0002169385552406311,0.00025153905153274536,-0.0006401762366294861,0.000692225992679596,-0.0003728121519088745,0.00018031522631645203,0.00012105703353881836,0.005785774905234575,0.000812917947769165,0.00014603137969970703,-0.00021041929721832275,-0.00019787997007369995,0.00023984163999557495,0.0002462640404701233,0.0013730525970458984,-3.1830742955207825e-05,0.00022748112678527832,0.0001249760389328003,-9.267032146453857e-05,-0.00013564527034759521,-0.00015013664960861206,-2.047419548034668e-05,0.00028401613235473633,0.0526210218667984,4.857778549194336e-06,-3.501772880554199e-05,3.860890865325928e-05,0.0001888275146484375,9.92391724139452e-05,-1.825392246246338e-05,6.48200511932373e-05,-0.00010186433792114258,-1.774728298187256e-05,0.0001389831304550171,5.431473255157471e-05,-8.810311555862427e-05,-0.00014781951904296875,5.608797073364258e-05,0.00021667778491973877,0.0003767833113670349,-0.0002507306635379791,0.000208401121199131,0.00020725280046463013,0.00020440667867660522,-0.0005946382880210876,0.0003287792205810547,-0.0007879398763179779,-8.459389209747314e-05,-8.85259360074997e-05,-0.025072097778320312,0.00017984211444854736,-1.6048550605773926e-05,0.0002873130142688751,0.000350315123796463,0.00013267435133457184,-0.00016540102660655975,0.0011146701872348785,-0.000738261267542839,3.434717655181885e-05,-7.292628288269043e-05,0.0013672932982444763,5.387701094150543e-05,-0.05738164484500885,9.501073509454727e-05,0.006411886774003506,-0.003694184124469757,0.0001847906969487667,-0.013513252139091492,-0.0001338869333267212,-6.750458851456642e-06,-1.8887221813201904e-06,-0.0005237162113189697,-0.00011745095252990723,-0.00011067092418670654,-0.00010263919830322266,8.619576692581177e-05,1.4841556549072266e-05,-0.00012724287807941437,0.00012673437595367432,-0.0003374740481376648,0.00039201974868774414,0.0005259141325950623,-0.00015664473176002502,0.00045037269592285156,0.0003426894545555115,8.367002010345459e-05,-0.00018156133592128754,-0.00048227235674858093,0.00030513107776641846,-0.00017759762704372406,0.00023820996284484863,-0.00033526867628097534,0.0002657771110534668,-0.00011395663022994995,-0.00019222870469093323,-0.00015780329704284668,-9.742379188537598e-05,0.00022743642330169678,0.00016417726874351501,-7.485784590244293e-05,0.0005332231521606445,0.0004824921488761902,-0.00027689337730407715,0.0007054507732391357,0.00591963529586792,0.0004926323890686035,0.00028191879391670227,-8.534640073776245e-05,0.0001039355993270874,0.00014904141426086426,8.58008861541748e-05,-6.417930126190186e-05,-0.0007019191980361938,3.7536025047302246e-05,0.0002040024846792221,-0.00162564218044281,0.00032301247119903564,-0.00010380148887634277,-0.0002542734146118164,0.0003589130938053131,-0.0029153674840927124,-8.729100227355957e-05,0.00011604279279708862,-0.0003730356693267822,-4.206225275993347e-05,2.9981136322021484e-05,0.00016157329082489014,0.000128135085105896,-0.0004327744245529175,0.00016632303595542908,-0.0015331432223320007,-0.0027119049336761236,8.237361907958984e-05,-0.0006302148103713989,1.6588717699050903e-05,-0.0008455216884613037,0.0005896091461181641,-0.0071571990847587585,-0.005573902279138565,4.093348979949951e-05,-0.00024206936359405518,0.0005036294460296631,0.00017606467008590698,-0.00029827654361724854,9.351596236228943e-05,4.093348979949951e-05,3.062933683395386e-05,0.0007066503167152405,0.0003013014793395996,0.0006019920110702515,-0.0003940798342227936,0.0005496256053447723,-6.587058305740356e-05,-0.00010485202074050903,-3.6090612411499023e-05,-6.695091724395752e-05,-3.8683414459228516e-05,0.00039678625762462616,0.00011795759201049805,0.0004944801330566406,2.2858381271362305e-05,6.183981895446777e-06,0.000116787850856781,-0.000979602336883545,0.00010018050670623779,-0.0007467325776815414,5.2675604820251465e-05,0.00032656267285346985,0.000284731388092041,-0.0010050684213638306,3.471970558166504e-05,0.0001620464026927948,-0.00015328079462051392,-0.0004331972450017929,-3.4086406230926514e-06,-4.252791404724121e-05,-0.00036443769931793213,-0.00043417513370513916,-0.00018841028213500977,-0.00024384260177612305,0.00029499828815460205,1.7851591110229492e-05,-0.0003338828682899475,3.2223761081695557e-06,1.786649227142334e-05,-0.0005326159298419952,-0.0002626180648803711,0.00028127431869506836,0.0007725507020950317,0.0002025216817855835,-0.00011658668518066406,0.00027588382363319397,-0.00044477730989456177,0.00017506442964076996,-0.0009597130119800568,-0.0007094843313097954,3.755930811166763e-05,-0.0008898898959159851,2.4586915969848633e-05,-0.00018685869872570038,0.0002856194041669369,-0.0004144608974456787,0.0002073049545288086,-0.0006184279918670654,0.000659555196762085,5.363672971725464e-05,-0.00013937801122665405,0.00026457756757736206,-0.00024664029479026794,0.0003735804930329323,-0.0002277567982673645,-5.2481889724731445e-05,0.00048597902059555054,-2.053147181868553e-05,-7.393956184387207e-05,0.00016587227582931519,-0.0003219563513994217,-0.0006732866168022156,6.707385182380676e-05,0.0002550780773162842,0.0003718361258506775,0.00038319826126098633,0.0004490315914154053,-2.9742717742919922e-05,0.002320408821105957,6.651319563388824e-05,-0.0005148164927959442,0.00016623735427856445,0.00017818808555603027,0.0006087571382522583,6.722286343574524e-05,0.0021023154258728027,0.0007051229476928711,0.00012614578008651733,-0.0015321983955800533,0.00016992166638374329,-0.0004220418632030487,0.00039634108543395996,-0.00023283064365386963,0.000277872197329998,0.00011539272964000702,0.00013982504606246948,-0.00028850138187408447,0.00041731446981430054,0.00038439035415649414,-6.267055869102478e-05,0.00026573240756988525,-5.7309865951538086e-05,0.0008352622389793396,-8.925050497055054e-05,-1.3902783393859863e-05,2.713128924369812e-05,0.00011454196646809578,0.0003442559391260147,-8.070841431617737e-06,0.00011247768998146057,0.0005120784044265747,1.1436641216278076e-05,0.00022649765014648438,0.00013304036110639572,0.00015504658222198486,-2.9355287551879883e-05,0.00011648237705230713,8.647143840789795e-05,-0.0001866668462753296,1.9073486328125e-06,2.3622065782546997e-05,-0.00013061612844467163,0.00021895766258239746,0.00035388371907174587,-0.00011645257472991943,-0.0004635155200958252,0.0002705305814743042,0.0005884319543838501,0.000628158450126648,0.001320280134677887,0.0004358734004199505,5.986541509628296e-05,-0.00020179897546768188,-0.00016554933972656727,-0.00021432340145111084,-0.0004966473206877708,0.0006304234266281128,-8.693337440490723e-05,-1.0423362255096436e-05,0.0003283414989709854,0.00010235607624053955,0.09441002458333969,0.0011596828699111938,0.00034931255504488945,0.00045510195195674896,-0.00030207959935069084,-2.6479363441467285e-05,-0.000143393874168396,6.657838821411133e-05,-6.917119026184082e-05,0.001463513821363449,0.00016658008098602295,0.00015753507614135742,0.00016692280769348145,-0.00030732061713933945,-8.210539817810059e-05,0.0007143616676330566,-0.0006390977650880814,-4.5709311962127686e-05,-0.0002772212028503418,0.00013185373973101377,-0.0004452243447303772,-1.0848045349121094e-05,3.869738429784775e-05,-0.0001761913299560547,0.0001074671745300293,-0.0014672018587589264,-0.0002551823854446411,0.00026723742485046387,-0.0003658086061477661,2.33575701713562e-06,7.061660289764404e-05,0.0002941414713859558,-0.00014838576316833496,-0.00036558881402015686,2.1398067474365234e-05,-0.0006487583741545677,-0.0008084028959274292,-5.774945020675659e-05,-0.0004775039851665497,-0.00026810169219970703,-4.696846008300781e-05,0.00018608570098876953,-9.736418724060059e-05,-0.000444561243057251,-0.00041147321462631226,1.0969117283821106e-05,-0.00017695873975753784,-0.00035387277603149414,5.5439770221710205e-05,1.5407800674438477e-05,-0.00043764710426330566,-1.263245940208435e-05,0.00010848045349121094,-0.00012589246034622192,-0.00010935962200164795,0.0002726539969444275,-0.0005040690302848816,-0.00018373876810073853,4.470348358154297e-08,-7.21365213394165e-05,3.0055642127990723e-05,1.1285766959190369e-05,8.719600737094879e-05,-2.308562397956848e-05,-0.00010600686073303223,-6.303191184997559e-06,0.0001259148120880127,0.00014492496848106384,-0.00014750193804502487,7.638335227966309e-05,5.3629279136657715e-05,0.0001246333122253418,1.3202428817749023e-05,-2.995133399963379e-05,0.00010038912296295166,-9.242445230484009e-05,-0.00018039345741271973,-0.0001042783260345459,0.00034590065479278564,8.001923561096191e-05,-0.0006817281246185303,3.904849290847778e-05,0.005989275872707367,-0.00015407800674438477,0.0005078278481960297,0.11646416038274765,-0.0001630634069442749,-0.0002824068069458008,0.0005096644163131714,-0.0010741166770458221,-0.00041025876998901367,0.0006848573684692383,-8.144974708557129e-05,0.0005163997411727905,0.00038439780473709106,2.851872704923153e-05,0.1482727825641632,-0.00018211361020803452,0.0008055418729782104,-0.00040847063064575195,-0.0004243925213813782,9.620236232876778e-05,7.285177707672119e-05,-0.00012455880641937256,-8.705258369445801e-05,0.017491981387138367,-0.002455681562423706,-0.0013676434755325317,0.00021669268608093262,0.00046743452548980713,2.1457672119140625e-05,-4.799477756023407e-05,0.00022032111883163452,-6.152316927909851e-06,0.0003043636679649353,9.590014815330505e-05,-0.0002480223774909973,-0.00013686716556549072,3.4675002098083496e-05,-0.00021266937255859375,-1.944601535797119e-06,5.21242618560791e-05,0.0003439299762248993,-6.411969661712646e-05,-0.0001595616340637207,0.00046513229608535767,2.135336399078369e-05,-0.0001921132206916809,-0.00012373924255371094,0.0004368796944618225,0.00025532953441143036,-1.9887462258338928e-05,5.722418427467346e-05,0.00012928247451782227,0.00907820463180542,8.085742592811584e-06,0.00022986531257629395,6.288290023803711e-05,0.00010526925325393677,-0.0003872215747833252,-1.4610588550567627e-05,0.00012212246656417847,-0.0004093945026397705,6.259884685277939e-05,-0.00016962550580501556,-7.906556129455566e-05,0.0001659095287322998,6.660819053649902e-05,0.00014875829219818115,-0.0001636594533920288,8.493661880493164e-07,0.00020349770784378052,1.6540288925170898e-06,-0.0001188516616821289,0.00016091763973236084,-1.0184943675994873e-05,0.00013554096221923828,-0.0001858547329902649,3.988295793533325e-05,-4.844367504119873e-05,1.9602477550506592e-05,9.867921471595764e-05,3.8407742977142334e-05,-0.0015348270535469055,-0.0005536079406738281,3.097951412200928e-05,-0.0007882416248321533,0.0001640748232603073,-0.0008441805839538574,5.552172660827637e-05,-0.0012355782091617584,-0.0004964880645275116,-0.00014234520494937897,8.031725883483887e-06,0.001647666096687317,-1.607835292816162e-05,-0.00010881200432777405,8.121132850646973e-05,-6.210803985595703e-05,0.00011936575174331665,0.0004264228045940399,0.0007615908980369568,-5.505979061126709e-06,0.0015094054397195578,0.005854979157447815,-5.276501178741455e-05,4.5262277126312256e-05,-0.00020088255405426025,7.960200309753418e-05,-0.000230349600315094,-0.00014188140630722046,-0.00013679265975952148,-0.0001284480094909668,-0.00016588717699050903,-2.5033950805664062e-06,0.0002102777361869812,0.00011390447616577148,-0.0002021491527557373,-2.421438694000244e-06,-0.00014910101890563965,0.052690934389829636,-0.0004926696419715881,0.00021713972091674805,0.0005993973463773727,0.0002089366316795349,-5.153194069862366e-05,-0.0003912895917892456,0.0005585253238677979,-0.000642240047454834,-0.00024268031120300293,0.0008994322270154953,-0.00018724054098129272,0.0007327944040298462,0.0005112667568027973,-0.00010795146226882935,0.00026707351207733154,0.000353395938873291,-0.0004221871495246887,-0.00031001120805740356,0.0005342587828636169,0.00017280876636505127,0.0006603896617889404,1.798570156097412e-05,-0.00021401047706604004,0.001635730266571045,5.738809704780579e-06,0.0010914381127804518,3.374554216861725e-05,-0.0006726309657096863,0.00018346309661865234,-0.00032773055136203766,8.222460746765137e-05,0.0003262460231781006,0.00032711029052734375,-9.413063526153564e-05,-0.0002727210521697998,-0.0005389191210269928,-0.0335562527179718,0.0885470062494278,-4.775822162628174e-05,-0.0033602190669625998,-0.0011226087808609009,-0.0017359089106321335,-0.001964367926120758,0.19082768261432648,-0.0014720559120178223,-0.00042712781578302383,-0.0007157251238822937,-0.00029952265322208405,-0.0029184799641370773,0.08018195629119873,7.845461368560791e-06,-1.5064932107925415,-0.02363930642604828,0.017007999122142792,-0.002878434956073761,0.13101013004779816,-0.0667361170053482,0.035737890750169754,-0.0071676187217235565,-0.0015230793505907059,-0.011662870645523071,-0.0023815110325813293,-0.00017233937978744507,0.3893650770187378,0.9199240207672119,-6.240606307983398e-05,0.01535688154399395,7.694214582443237e-05,6.813928484916687e-05,0.0001401454210281372,-0.00010010600090026855,5.353987216949463e-05,-1.5543773770332336e-05,1.3809651136398315e-05,-0.00017580389976501465,0.00010895729064941406,-6.0558319091796875e-05,0.0001463666558265686,1.7158687114715576e-05,-3.123003989458084e-05,3.3348798751831055e-05,0.00012617558240890503,8.172541856765747e-05,-0.0003051087260246277,0.0001676604151725769,-0.00016551464796066284,-5.8181583881378174e-05,3.653578460216522e-05,-0.00016580522060394287,0.000229761004447937,0.00010200962424278259,-9.514391422271729e-05,4.976987838745117e-06,-0.00013922154903411865,-4.380941390991211e-06,0.0003944970667362213,-9.587779641151428e-05,0.00013561733067035675,8.93622636795044e-05,-5.0961971282958984e-05,0.0002776235342025757,6.157532334327698e-05,0.00012473762035369873,0.00018228963017463684,-0.00044108927249908447,-4.262104630470276e-05,-0.0003360360860824585,0.0036464929580688477,-0.00046893954277038574,4.8726797103881836e-05,8.324533700942993e-05,-6.30747526884079e-05,0.0006390810012817383,0.0008351467549800873,0.00019868090748786926,9.587407112121582e-05,-0.00023316964507102966,-0.00010157935321331024,0.000254899263381958,0.03647710010409355,-0.0002877041697502136,0.0003852173686027527,-0.00021220743656158447,0.0014729946851730347,-4.322826862335205e-05,0.0005554886301979423,-0.0001943930983543396,0.003895445493981242,6.887316703796387e-05,-0.00028623640537261963,0.00017431378364562988,-0.00016354024410247803,-0.00024471431970596313,-0.00029490888118743896,-0.00021070986986160278,-0.00018800050020217896,-0.00014606863260269165,-0.0006257877685129642,0.0002693682909011841,-0.0002430751919746399,0.00021200627088546753,6.294995546340942e-05,-0.00048217084258794785,-0.0002943277359008789,2.623721957206726e-05,-0.00014769285917282104,4.32133674621582e-05,-5.182623863220215e-05,-0.00027212314307689667,-0.00019163265824317932,-0.0001226961612701416,-0.0005011251196265221,8.90493392944336e-05,0.00020080525428056717,0.0003144368529319763,-0.000513105362188071,-0.00016456842422485352,3.688037395477295e-05,-1.8753111362457275e-05,1.1593103408813477e-05,-0.0002924799919128418,-0.0003768652677536011,-4.973262548446655e-06,-8.860602974891663e-06],\"xaxis\":\"x\",\"yaxis\":\"y\",\"type\":\"histogram\"}],                        {\"template\":{\"data\":{\"histogram2dcontour\":[{\"type\":\"histogram2dcontour\",\"colorbar\":{\"outlinewidth\":0,\"ticks\":\"\"},\"colorscale\":[[0.0,\"#0d0887\"],[0.1111111111111111,\"#46039f\"],[0.2222222222222222,\"#7201a8\"],[0.3333333333333333,\"#9c179e\"],[0.4444444444444444,\"#bd3786\"],[0.5555555555555556,\"#d8576b\"],[0.6666666666666666,\"#ed7953\"],[0.7777777777777778,\"#fb9f3a\"],[0.8888888888888888,\"#fdca26\"],[1.0,\"#f0f921\"]]}],\"choropleth\":[{\"type\":\"choropleth\",\"colorbar\":{\"outlinewidth\":0,\"ticks\":\"\"}}],\"histogram2d\":[{\"type\":\"histogram2d\",\"colorbar\":{\"outlinewidth\":0,\"ticks\":\"\"},\"colorscale\":[[0.0,\"#0d0887\"],[0.1111111111111111,\"#46039f\"],[0.2222222222222222,\"#7201a8\"],[0.3333333333333333,\"#9c179e\"],[0.4444444444444444,\"#bd3786\"],[0.5555555555555556,\"#d8576b\"],[0.6666666666666666,\"#ed7953\"],[0.7777777777777778,\"#fb9f3a\"],[0.8888888888888888,\"#fdca26\"],[1.0,\"#f0f921\"]]}],\"heatmap\":[{\"type\":\"heatmap\",\"colorbar\":{\"outlinewidth\":0,\"ticks\":\"\"},\"colorscale\":[[0.0,\"#0d0887\"],[0.1111111111111111,\"#46039f\"],[0.2222222222222222,\"#7201a8\"],[0.3333333333333333,\"#9c179e\"],[0.4444444444444444,\"#bd3786\"],[0.5555555555555556,\"#d8576b\"],[0.6666666666666666,\"#ed7953\"],[0.7777777777777778,\"#fb9f3a\"],[0.8888888888888888,\"#fdca26\"],[1.0,\"#f0f921\"]]}],\"heatmapgl\":[{\"type\":\"heatmapgl\",\"colorbar\":{\"outlinewidth\":0,\"ticks\":\"\"},\"colorscale\":[[0.0,\"#0d0887\"],[0.1111111111111111,\"#46039f\"],[0.2222222222222222,\"#7201a8\"],[0.3333333333333333,\"#9c179e\"],[0.4444444444444444,\"#bd3786\"],[0.5555555555555556,\"#d8576b\"],[0.6666666666666666,\"#ed7953\"],[0.7777777777777778,\"#fb9f3a\"],[0.8888888888888888,\"#fdca26\"],[1.0,\"#f0f921\"]]}],\"contourcarpet\":[{\"type\":\"contourcarpet\",\"colorbar\":{\"outlinewidth\":0,\"ticks\":\"\"}}],\"contour\":[{\"type\":\"contour\",\"colorbar\":{\"outlinewidth\":0,\"ticks\":\"\"},\"colorscale\":[[0.0,\"#0d0887\"],[0.1111111111111111,\"#46039f\"],[0.2222222222222222,\"#7201a8\"],[0.3333333333333333,\"#9c179e\"],[0.4444444444444444,\"#bd3786\"],[0.5555555555555556,\"#d8576b\"],[0.6666666666666666,\"#ed7953\"],[0.7777777777777778,\"#fb9f3a\"],[0.8888888888888888,\"#fdca26\"],[1.0,\"#f0f921\"]]}],\"surface\":[{\"type\":\"surface\",\"colorbar\":{\"outlinewidth\":0,\"ticks\":\"\"},\"colorscale\":[[0.0,\"#0d0887\"],[0.1111111111111111,\"#46039f\"],[0.2222222222222222,\"#7201a8\"],[0.3333333333333333,\"#9c179e\"],[0.4444444444444444,\"#bd3786\"],[0.5555555555555556,\"#d8576b\"],[0.6666666666666666,\"#ed7953\"],[0.7777777777777778,\"#fb9f3a\"],[0.8888888888888888,\"#fdca26\"],[1.0,\"#f0f921\"]]}],\"mesh3d\":[{\"type\":\"mesh3d\",\"colorbar\":{\"outlinewidth\":0,\"ticks\":\"\"}}],\"scatter\":[{\"fillpattern\":{\"fillmode\":\"overlay\",\"size\":10,\"solidity\":0.2},\"type\":\"scatter\"}],\"parcoords\":[{\"type\":\"parcoords\",\"line\":{\"colorbar\":{\"outlinewidth\":0,\"ticks\":\"\"}}}],\"scatterpolargl\":[{\"type\":\"scatterpolargl\",\"marker\":{\"colorbar\":{\"outlinewidth\":0,\"ticks\":\"\"}}}],\"bar\":[{\"error_x\":{\"color\":\"#2a3f5f\"},\"error_y\":{\"color\":\"#2a3f5f\"},\"marker\":{\"line\":{\"color\":\"#E5ECF6\",\"width\":0.5},\"pattern\":{\"fillmode\":\"overlay\",\"size\":10,\"solidity\":0.2}},\"type\":\"bar\"}],\"scattergeo\":[{\"type\":\"scattergeo\",\"marker\":{\"colorbar\":{\"outlinewidth\":0,\"ticks\":\"\"}}}],\"scatterpolar\":[{\"type\":\"scatterpolar\",\"marker\":{\"colorbar\":{\"outlinewidth\":0,\"ticks\":\"\"}}}],\"histogram\":[{\"marker\":{\"pattern\":{\"fillmode\":\"overlay\",\"size\":10,\"solidity\":0.2}},\"type\":\"histogram\"}],\"scattergl\":[{\"type\":\"scattergl\",\"marker\":{\"colorbar\":{\"outlinewidth\":0,\"ticks\":\"\"}}}],\"scatter3d\":[{\"type\":\"scatter3d\",\"line\":{\"colorbar\":{\"outlinewidth\":0,\"ticks\":\"\"}},\"marker\":{\"colorbar\":{\"outlinewidth\":0,\"ticks\":\"\"}}}],\"scattermapbox\":[{\"type\":\"scattermapbox\",\"marker\":{\"colorbar\":{\"outlinewidth\":0,\"ticks\":\"\"}}}],\"scatterternary\":[{\"type\":\"scatterternary\",\"marker\":{\"colorbar\":{\"outlinewidth\":0,\"ticks\":\"\"}}}],\"scattercarpet\":[{\"type\":\"scattercarpet\",\"marker\":{\"colorbar\":{\"outlinewidth\":0,\"ticks\":\"\"}}}],\"carpet\":[{\"aaxis\":{\"endlinecolor\":\"#2a3f5f\",\"gridcolor\":\"white\",\"linecolor\":\"white\",\"minorgridcolor\":\"white\",\"startlinecolor\":\"#2a3f5f\"},\"baxis\":{\"endlinecolor\":\"#2a3f5f\",\"gridcolor\":\"white\",\"linecolor\":\"white\",\"minorgridcolor\":\"white\",\"startlinecolor\":\"#2a3f5f\"},\"type\":\"carpet\"}],\"table\":[{\"cells\":{\"fill\":{\"color\":\"#EBF0F8\"},\"line\":{\"color\":\"white\"}},\"header\":{\"fill\":{\"color\":\"#C8D4E3\"},\"line\":{\"color\":\"white\"}},\"type\":\"table\"}],\"barpolar\":[{\"marker\":{\"line\":{\"color\":\"#E5ECF6\",\"width\":0.5},\"pattern\":{\"fillmode\":\"overlay\",\"size\":10,\"solidity\":0.2}},\"type\":\"barpolar\"}],\"pie\":[{\"automargin\":true,\"type\":\"pie\"}]},\"layout\":{\"autotypenumbers\":\"strict\",\"colorway\":[\"#636efa\",\"#EF553B\",\"#00cc96\",\"#ab63fa\",\"#FFA15A\",\"#19d3f3\",\"#FF6692\",\"#B6E880\",\"#FF97FF\",\"#FECB52\"],\"font\":{\"color\":\"#2a3f5f\"},\"hovermode\":\"closest\",\"hoverlabel\":{\"align\":\"left\"},\"paper_bgcolor\":\"white\",\"plot_bgcolor\":\"#E5ECF6\",\"polar\":{\"bgcolor\":\"#E5ECF6\",\"angularaxis\":{\"gridcolor\":\"white\",\"linecolor\":\"white\",\"ticks\":\"\"},\"radialaxis\":{\"gridcolor\":\"white\",\"linecolor\":\"white\",\"ticks\":\"\"}},\"ternary\":{\"bgcolor\":\"#E5ECF6\",\"aaxis\":{\"gridcolor\":\"white\",\"linecolor\":\"white\",\"ticks\":\"\"},\"baxis\":{\"gridcolor\":\"white\",\"linecolor\":\"white\",\"ticks\":\"\"},\"caxis\":{\"gridcolor\":\"white\",\"linecolor\":\"white\",\"ticks\":\"\"}},\"coloraxis\":{\"colorbar\":{\"outlinewidth\":0,\"ticks\":\"\"}},\"colorscale\":{\"sequential\":[[0.0,\"#0d0887\"],[0.1111111111111111,\"#46039f\"],[0.2222222222222222,\"#7201a8\"],[0.3333333333333333,\"#9c179e\"],[0.4444444444444444,\"#bd3786\"],[0.5555555555555556,\"#d8576b\"],[0.6666666666666666,\"#ed7953\"],[0.7777777777777778,\"#fb9f3a\"],[0.8888888888888888,\"#fdca26\"],[1.0,\"#f0f921\"]],\"sequentialminus\":[[0.0,\"#0d0887\"],[0.1111111111111111,\"#46039f\"],[0.2222222222222222,\"#7201a8\"],[0.3333333333333333,\"#9c179e\"],[0.4444444444444444,\"#bd3786\"],[0.5555555555555556,\"#d8576b\"],[0.6666666666666666,\"#ed7953\"],[0.7777777777777778,\"#fb9f3a\"],[0.8888888888888888,\"#fdca26\"],[1.0,\"#f0f921\"]],\"diverging\":[[0,\"#8e0152\"],[0.1,\"#c51b7d\"],[0.2,\"#de77ae\"],[0.3,\"#f1b6da\"],[0.4,\"#fde0ef\"],[0.5,\"#f7f7f7\"],[0.6,\"#e6f5d0\"],[0.7,\"#b8e186\"],[0.8,\"#7fbc41\"],[0.9,\"#4d9221\"],[1,\"#276419\"]]},\"xaxis\":{\"gridcolor\":\"white\",\"linecolor\":\"white\",\"ticks\":\"\",\"title\":{\"standoff\":15},\"zerolinecolor\":\"white\",\"automargin\":true,\"zerolinewidth\":2},\"yaxis\":{\"gridcolor\":\"white\",\"linecolor\":\"white\",\"ticks\":\"\",\"title\":{\"standoff\":15},\"zerolinecolor\":\"white\",\"automargin\":true,\"zerolinewidth\":2},\"scene\":{\"xaxis\":{\"backgroundcolor\":\"#E5ECF6\",\"gridcolor\":\"white\",\"linecolor\":\"white\",\"showbackground\":true,\"ticks\":\"\",\"zerolinecolor\":\"white\",\"gridwidth\":2},\"yaxis\":{\"backgroundcolor\":\"#E5ECF6\",\"gridcolor\":\"white\",\"linecolor\":\"white\",\"showbackground\":true,\"ticks\":\"\",\"zerolinecolor\":\"white\",\"gridwidth\":2},\"zaxis\":{\"backgroundcolor\":\"#E5ECF6\",\"gridcolor\":\"white\",\"linecolor\":\"white\",\"showbackground\":true,\"ticks\":\"\",\"zerolinecolor\":\"white\",\"gridwidth\":2}},\"shapedefaults\":{\"line\":{\"color\":\"#2a3f5f\"}},\"annotationdefaults\":{\"arrowcolor\":\"#2a3f5f\",\"arrowhead\":0,\"arrowwidth\":1},\"geo\":{\"bgcolor\":\"white\",\"landcolor\":\"#E5ECF6\",\"subunitcolor\":\"white\",\"showland\":true,\"showlakes\":true,\"lakecolor\":\"white\"},\"title\":{\"x\":0.05},\"mapbox\":{\"style\":\"light\"}}},\"xaxis\":{\"anchor\":\"y\",\"domain\":[0.0,1.0],\"title\":{\"text\":\"value\"}},\"yaxis\":{\"anchor\":\"x\",\"domain\":[0.0,1.0],\"title\":{\"text\":\"count\"}},\"legend\":{\"title\":{\"text\":\"variable\"},\"tracegroupgap\":0},\"margin\":{\"t\":60},\"barmode\":\"relative\"},                        {\"responsive\": true}                    ).then(function(){\n",
              "                            \n",
              "var gd = document.getElementById('72c7121f-3bf6-4f99-8c02-55331d96c098');\n",
              "var x = new MutationObserver(function (mutations, observer) {{\n",
              "        var display = window.getComputedStyle(gd).display;\n",
              "        if (!display || display === 'none') {{\n",
              "            console.log([gd, 'removed!']);\n",
              "            Plotly.purge(gd);\n",
              "            observer.disconnect();\n",
              "        }}\n",
              "}});\n",
              "\n",
              "// Listen for the removal of the full notebook cells\n",
              "var notebookContainer = gd.closest('#notebook-container');\n",
              "if (notebookContainer) {{\n",
              "    x.observe(notebookContainer, {childList: true});\n",
              "}}\n",
              "\n",
              "// Listen for the clearing of the current output cell\n",
              "var outputEl = gd.closest('.output');\n",
              "if (outputEl) {{\n",
              "    x.observe(outputEl, {childList: true});\n",
              "}}\n",
              "\n",
              "                        })                };                            </script>        </div>\n",
              "</body>\n",
              "</html>"
            ]
          },
          "metadata": {}
        }
      ]
    }
  ]
}